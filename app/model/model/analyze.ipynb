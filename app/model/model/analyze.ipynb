{
  "cells": [
    {
      "cell_type": "code",
      "execution_count": null,
      "metadata": {
        "collapsed": true,
        "id": "gOu8MC5Arv2m"
      },
      "outputs": [],
      "source": [
        "!pip install catboost lightgbm gensim nltk"
      ]
    },
    {
      "cell_type": "code",
      "execution_count": 58,
      "metadata": {
        "id": "LqGqzFN2rnT1"
      },
      "outputs": [],
      "source": [
        "import pandas as pd\n",
        "import numpy as np\n",
        "import matplotlib.pyplot as plt\n",
        "from sklearn.feature_extraction.text import TfidfVectorizer\n",
        "from sklearn.model_selection import train_test_split, GridSearchCV\n",
        "from sklearn.linear_model import LogisticRegression\n",
        "from catboost import CatBoostClassifier\n",
        "from sklearn.metrics import accuracy_score\n",
        "from sklearn.preprocessing import LabelEncoder\n",
        "from sklearn.metrics import accuracy_score, precision_score, recall_score, f1_score, roc_auc_score\n",
        "import nltk\n",
        "from nltk.tokenize import word_tokenize\n",
        "from nltk.corpus import stopwords\n",
        "from nltk.stem import SnowballStemmer\n",
        "from sklearn.ensemble import RandomForestClassifier\n",
        "import os\n",
        "import pickle\n",
        "from sklearn.svm import SVC\n",
        "import lightgbm as lgb"
      ]
    },
    {
      "cell_type": "code",
      "execution_count": null,
      "metadata": {
        "id": "0VM5De2OZ7xh"
      },
      "outputs": [],
      "source": [
        "nltk.download('punkt')\n",
        "nltk.download('stopwords')"
      ]
    },
    {
      "cell_type": "markdown",
      "metadata": {
        "id": "GNq233sY8QeB"
      },
      "source": [
        "#Предобработка данных"
      ]
    },
    {
      "cell_type": "code",
      "execution_count": 59,
      "metadata": {
        "id": "mvDVFVg3r5GG"
      },
      "outputs": [],
      "source": [
        "train_data = pd.read_csv('/content/drive/MyDrive/Colab Notebooks/Samokat/amazon/train_40k.csv')"
      ]
    },
    {
      "cell_type": "code",
      "execution_count": null,
      "metadata": {
        "id": "0_lcUVZCr7Cc"
      },
      "outputs": [],
      "source": [
        "train_data.head()"
      ]
    },
    {
      "cell_type": "code",
      "execution_count": null,
      "metadata": {
        "colab": {
          "base_uri": "https://localhost:8080/",
          "height": 490
        },
        "id": "eup-4tV0Bg9l",
        "outputId": "490df0d3-85fe-458d-dc2d-783869984d25"
      },
      "outputs": [
        {
          "data": {
            "text/html": [
              "<div>\n",
              "<style scoped>\n",
              "    .dataframe tbody tr th:only-of-type {\n",
              "        vertical-align: middle;\n",
              "    }\n",
              "\n",
              "    .dataframe tbody tr th {\n",
              "        vertical-align: top;\n",
              "    }\n",
              "\n",
              "    .dataframe thead th {\n",
              "        text-align: right;\n",
              "    }\n",
              "</style>\n",
              "<table border=\"1\" class=\"dataframe\">\n",
              "  <thead>\n",
              "    <tr style=\"text-align: right;\">\n",
              "      <th></th>\n",
              "      <th>count</th>\n",
              "    </tr>\n",
              "    <tr>\n",
              "      <th>Cat3</th>\n",
              "      <th></th>\n",
              "    </tr>\n",
              "  </thead>\n",
              "  <tbody>\n",
              "    <tr>\n",
              "      <th>unknown</th>\n",
              "      <td>2262</td>\n",
              "    </tr>\n",
              "    <tr>\n",
              "      <th>shaving hair removal</th>\n",
              "      <td>1565</td>\n",
              "    </tr>\n",
              "    <tr>\n",
              "      <th>vitamins supplements</th>\n",
              "      <td>1315</td>\n",
              "    </tr>\n",
              "    <tr>\n",
              "      <th>board games</th>\n",
              "      <td>924</td>\n",
              "    </tr>\n",
              "    <tr>\n",
              "      <th>styling tools</th>\n",
              "      <td>850</td>\n",
              "    </tr>\n",
              "    <tr>\n",
              "      <th>...</th>\n",
              "      <td>...</td>\n",
              "    </tr>\n",
              "    <tr>\n",
              "      <th>pork</th>\n",
              "      <td>1</td>\n",
              "    </tr>\n",
              "    <tr>\n",
              "      <th>games</th>\n",
              "      <td>1</td>\n",
              "    </tr>\n",
              "    <tr>\n",
              "      <th>game collections</th>\n",
              "      <td>1</td>\n",
              "    </tr>\n",
              "    <tr>\n",
              "      <th>fruits</th>\n",
              "      <td>1</td>\n",
              "    </tr>\n",
              "    <tr>\n",
              "      <th>sports drinks</th>\n",
              "      <td>1</td>\n",
              "    </tr>\n",
              "  </tbody>\n",
              "</table>\n",
              "<p>464 rows × 1 columns</p>\n",
              "</div><br><label><b>dtype:</b> int64</label>"
            ],
            "text/plain": [
              "Cat3\n",
              "unknown                 2262\n",
              "shaving hair removal    1565\n",
              "vitamins supplements    1315\n",
              "board games              924\n",
              "styling tools            850\n",
              "                        ... \n",
              "pork                       1\n",
              "games                      1\n",
              "game collections           1\n",
              "fruits                     1\n",
              "sports drinks              1\n",
              "Name: count, Length: 464, dtype: int64"
            ]
          },
          "execution_count": 6,
          "metadata": {},
          "output_type": "execute_result"
        }
      ],
      "source": [
        "train_data.value_counts('Cat3')"
      ]
    },
    {
      "cell_type": "code",
      "execution_count": null,
      "metadata": {
        "id": "0jIEh0SXB8tH"
      },
      "outputs": [],
      "source": [
        "threshold = 20\n",
        "class_counts = train_data['Cat3'].value_counts()\n",
        "\n",
        "# Замена редких классов на 'Other'\n",
        "train_data['Cat3'] = train_data['Cat3'].apply(lambda x: x if class_counts[x] > threshold else 'Other')\n"
      ]
    },
    {
      "cell_type": "code",
      "execution_count": null,
      "metadata": {
        "colab": {
          "base_uri": "https://localhost:8080/",
          "height": 490
        },
        "id": "MWreXV70CDip",
        "outputId": "1fd5bf37-e2b7-4a1c-bef5-6d98b92f4bfc"
      },
      "outputs": [
        {
          "data": {
            "text/html": [
              "<div>\n",
              "<style scoped>\n",
              "    .dataframe tbody tr th:only-of-type {\n",
              "        vertical-align: middle;\n",
              "    }\n",
              "\n",
              "    .dataframe tbody tr th {\n",
              "        vertical-align: top;\n",
              "    }\n",
              "\n",
              "    .dataframe thead th {\n",
              "        text-align: right;\n",
              "    }\n",
              "</style>\n",
              "<table border=\"1\" class=\"dataframe\">\n",
              "  <thead>\n",
              "    <tr style=\"text-align: right;\">\n",
              "      <th></th>\n",
              "      <th>count</th>\n",
              "    </tr>\n",
              "    <tr>\n",
              "      <th>Cat3</th>\n",
              "      <th></th>\n",
              "    </tr>\n",
              "  </thead>\n",
              "  <tbody>\n",
              "    <tr>\n",
              "      <th>unknown</th>\n",
              "      <td>2262</td>\n",
              "    </tr>\n",
              "    <tr>\n",
              "      <th>Other</th>\n",
              "      <td>1566</td>\n",
              "    </tr>\n",
              "    <tr>\n",
              "      <th>shaving hair removal</th>\n",
              "      <td>1565</td>\n",
              "    </tr>\n",
              "    <tr>\n",
              "      <th>vitamins supplements</th>\n",
              "      <td>1315</td>\n",
              "    </tr>\n",
              "    <tr>\n",
              "      <th>board games</th>\n",
              "      <td>924</td>\n",
              "    </tr>\n",
              "    <tr>\n",
              "      <th>...</th>\n",
              "      <td>...</td>\n",
              "    </tr>\n",
              "    <tr>\n",
              "      <th>water treatments</th>\n",
              "      <td>22</td>\n",
              "    </tr>\n",
              "    <tr>\n",
              "      <th>aquarium d cor</th>\n",
              "      <td>22</td>\n",
              "    </tr>\n",
              "    <tr>\n",
              "      <th>teddy bears</th>\n",
              "      <td>21</td>\n",
              "    </tr>\n",
              "    <tr>\n",
              "      <th>changing table pads covers</th>\n",
              "      <td>21</td>\n",
              "    </tr>\n",
              "    <tr>\n",
              "      <th>party mix</th>\n",
              "      <td>21</td>\n",
              "    </tr>\n",
              "  </tbody>\n",
              "</table>\n",
              "<p>239 rows × 1 columns</p>\n",
              "</div><br><label><b>dtype:</b> int64</label>"
            ],
            "text/plain": [
              "Cat3\n",
              "unknown                       2262\n",
              "Other                         1566\n",
              "shaving hair removal          1565\n",
              "vitamins supplements          1315\n",
              "board games                    924\n",
              "                              ... \n",
              "water treatments                22\n",
              "aquarium d cor                  22\n",
              "teddy bears                     21\n",
              "changing table pads covers      21\n",
              "party mix                       21\n",
              "Name: count, Length: 239, dtype: int64"
            ]
          },
          "execution_count": 8,
          "metadata": {},
          "output_type": "execute_result"
        }
      ],
      "source": [
        "train_data.value_counts('Cat3')"
      ]
    },
    {
      "cell_type": "code",
      "execution_count": null,
      "metadata": {
        "id": "JZpDy2KsaaOA"
      },
      "outputs": [],
      "source": [
        "train_data['length'] = train_data['Text'].apply(len)"
      ]
    },
    {
      "cell_type": "code",
      "execution_count": null,
      "metadata": {
        "id": "5V7gju6YbA5E"
      },
      "outputs": [],
      "source": [
        "train_data = train_data[train_data['Text'].apply(lambda x: len(x) >= 5)]"
      ]
    },
    {
      "cell_type": "code",
      "execution_count": null,
      "metadata": {
        "colab": {
          "base_uri": "https://localhost:8080/",
          "height": 408
        },
        "id": "sUJ0EdZUbH9c",
        "outputId": "65f983c4-1443-444b-fcb1-e9c5fee22c30"
      },
      "outputs": [
        {
          "data": {
            "text/plain": [
              "array([[<Axes: title={'center': 'length'}>]], dtype=object)"
            ]
          },
          "execution_count": 11,
          "metadata": {},
          "output_type": "execute_result"
        },
        {
          "data": {
            "image/png": "[encoded data removed]",
            "text/plain": [
              "<Figure size 1200x400 with 1 Axes>"
            ]
          },
          "metadata": {},
          "output_type": "display_data"
        }
      ],
      "source": [
        "train_data.hist(column='length', bins=500, figsize=(12,4))"
      ]
    },
    {
      "cell_type": "markdown",
      "metadata": {
        "id": "jAodYvl_8dcw"
      },
      "source": [
        "#Реализация класса иерархического классификатора"
      ]
    },
    {
      "cell_type": "markdown",
      "metadata": {
        "id": "0xP1LjDq8qBt"
      },
      "source": [
        "## Структура Local Classifier per Parent Node (LCPN) - каждый родительский узел получает один многоклассовый классификатор."
      ]
    },
    {
      "cell_type": "code",
      "execution_count": null,
      "metadata": {
        "id": "Kfh6OMF1x8__"
      },
      "outputs": [],
      "source": [
        "class LCPN_HierarchicalClassifier:\n",
        "\n",
        "    def __init__(self, base_model):\n",
        "        self.base_model = base_model\n",
        "        self.models = {}\n",
        "        self.label_encoders = {}\n",
        "        self.vectorizer = TfidfVectorizer()\n",
        "\n",
        "\n",
        "    def preprocess_text(self, text):\n",
        "        \"\"\"\n",
        "        Функция предобработки текста для корректной векторизации и работы модели\n",
        "        \"\"\"\n",
        "        tokens = word_tokenize(text)\n",
        "        tokens = [word.lower() for word in tokens if word.isalpha()]\n",
        "        stop_words = set(stopwords.words('english'))\n",
        "        filtered_tokens = [word for word in tokens if word not in stop_words]\n",
        "        stemmer = SnowballStemmer('english')\n",
        "        stemmed_tokens = [stemmer.stem(word) for word in filtered_tokens]\n",
        "        return ' '.join(stemmed_tokens)\n",
        "\n",
        "\n",
        "    def fit(self, train_data, catboost=False):\n",
        "        \"\"\"\n",
        "        Функция тренировки модели.\n",
        "        Входные данные предобрабатываются и векторизируются методом TfIdf для упрощения.\n",
        "        На каждый уровень реализуется отдельный LabelEncoder.\n",
        "        Если уровень больше первого, каждый классификатор тренируется на тех данных,\n",
        "        которые соответствуют родительскому узлу.\n",
        "        В словарь models сохраняем модели по определенному уровню и родительскому узлу.\n",
        "        Также сохраняем label_encoder'ы для будущих предсказаний и определения точности моделей.\n",
        "        \"\"\"\n",
        "        train_data['Processed_Text'] = train_data['Text'].apply(self.preprocess_text)\n",
        "        X = self.vectorizer.fit_transform(train_data['Processed_Text']).astype(np.float32)\n",
        "\n",
        "        for level in range(1, 4):\n",
        "            cat_column = f'Cat{level}'\n",
        "            label_encoder = LabelEncoder()\n",
        "            y = label_encoder.fit_transform(train_data[cat_column])\n",
        "\n",
        "            self.label_encoders[level] = label_encoder\n",
        "\n",
        "            if level == 1:\n",
        "                self.models['start'] = self.base_model.fit(X, y) # Если уровень первый, то обучаем на всем дататсете с колонки Cat1\n",
        "            else:\n",
        "                self.models[level] = {}\n",
        "                for label in train_data[f'Cat{level-1}'].unique():\n",
        "                    indices = train_data[f'Cat{level-1}'] == label\n",
        "                    X_label = X[indices]\n",
        "                    y_label = y[indices]\n",
        "\n",
        "                    if len(set(y_label)) == 1:\n",
        "                        continue\n",
        "\n",
        "                    X_train, X_test, y_train, y_test = train_test_split(X_label, y_label, test_size=0.25)\n",
        "\n",
        "                    if catboost:\n",
        "                        self.models[level][label] = self.base_model.fit(X_train, y_train)\n",
        "                    else:\n",
        "                        self.models[level][label] = self.base_model.set_params(class_weight='balanced').fit(X_train, y_train)\n",
        "\n",
        "                    y_pred = self.models[level][label].predict(X_test)\n",
        "\n",
        "                    print(f'--- Level {level}, Parent Label: {label} ---')\n",
        "                    print(f'Accuracy: {accuracy_score(y_test, y_pred)}')\n",
        "                    print(f'F1 Score: {f1_score(y_test, y_pred, average=\"macro\")}')\n",
        "                    print(f\"Recall score: {recall_score(y_test, y_pred, average='macro')}\")\n",
        "                    print(f\"Precision score: {precision_score(y_test, y_pred, average='macro')}\")\n",
        "\n",
        "        return self\n",
        "\n",
        "\n",
        "    def transform_with_unknown(self, label_encoder, labels):\n",
        "        \"\"\"\n",
        "        Функция работы с отстутствующими метками.\n",
        "        При получении новых данных мы можем получить неизвестные метки для label encoder,\n",
        "        что вызывает ошибку.\n",
        "        Чтобы решить эту проблему функция преобразует метки, заменяя новые метки на 'Unknown'.\n",
        "        \"\"\"\n",
        "\n",
        "        known_labels = set(label_encoder.classes_)\n",
        "        transformed_labels = []\n",
        "\n",
        "        for label in labels:\n",
        "            if label in known_labels:\n",
        "                transformed_labels.append(label_encoder.transform([label])[0])\n",
        "            else:\n",
        "                transformed_labels.append(label_encoder.transform([\"Unknown\"])[0])\n",
        "\n",
        "        return np.array(transformed_labels)\n",
        "\n",
        "    def predict(self, X):\n",
        "        \"\"\"\n",
        "        Функция предсказания.\n",
        "        Полученные данные векторизуются и подаются поочередно на каждый уровень\n",
        "        в зависимости от предсказанного класса. Каждое предсказанный класс сохраняется\n",
        "        в список y_pred_hierarchical.\n",
        "        Возвращается последний предсказанный класс и список всех классов.\n",
        "        \"\"\"\n",
        "\n",
        "        X = X.apply(self.preprocess_text)\n",
        "        X_transformed = self.vectorizer.transform(X)\n",
        "\n",
        "        y_pred_level_1 = self.models['start'].predict(X_transformed)\n",
        "        y_pred_hierarchical = [y_pred_level_1]\n",
        "\n",
        "        for level in range(2, 4):\n",
        "            y_pred_level = np.zeros_like(y_pred_level_1)\n",
        "            for i, label in enumerate(y_pred_hierarchical[-1]):\n",
        "                if label in self.models[level]:\n",
        "                    y_pred_level[i] = self.models[level][label].predict([X_transformed[i]])[0]\n",
        "                else:\n",
        "                    y_pred_level[i] = self.label_encoders[level].transform([\"Unknown\"])[0]\n",
        "            y_pred_hierarchical.append(y_pred_level)\n",
        "\n",
        "        return y_pred_hierarchical[-1], y_pred_hierarchical\n",
        "\n",
        "    def evaluate(self, test_data):\n",
        "        '''\n",
        "        Функция оценивания качества на тестовых данных.\n",
        "        Возвращаеn cловарь metrics, содержащий метрики качества\n",
        "        (accuracy, f1, recall, precision) для каждого уровня иерархии (Cat1, Cat2, Cat3).\n",
        "        '''\n",
        "        test_data['Processed_Text'] = test_data['Text'].apply(self.preprocess_text)\n",
        "        X_test = self.vectorizer.transform(test_data['Processed_Text']).astype(np.float32)\n",
        "\n",
        "        metrics = {f'Cat{level}': {'accuracy': [], 'f1': [], 'recall': [], 'precision': []} for level in range(1, 4)}\n",
        "\n",
        "        y_test_level_1 = self.transform_with_unknown(self.label_encoders[1], test_data['Cat1'])\n",
        "        y_pred_level_1 = self.models['start'].predict(X_test)\n",
        "\n",
        "        metrics['Cat1']['accuracy'].append(accuracy_score(y_test_level_1, y_pred_level_1))\n",
        "        metrics['Cat1']['f1'].append(f1_score(y_test_level_1, y_pred_level_1, average='macro'))\n",
        "        metrics['Cat1']['recall'].append(recall_score(y_test_level_1, y_pred_level_1, average='macro'))\n",
        "        metrics['Cat1']['precision'].append(precision_score(y_test_level_1, y_pred_level_1, average='macro'))\n",
        "\n",
        "        y_pred_hierarchical = [y_pred_level_1]\n",
        "\n",
        "        for level in range(2, 4):\n",
        "            y_test_level = self.transform_with_unknown(self.label_encoders[level], test_data[f'Cat{level}'])\n",
        "            y_pred_level = np.zeros_like(y_test_level)\n",
        "\n",
        "            for i, label in enumerate(y_pred_hierarchical[-1]):\n",
        "                if label in self.models[level]:\n",
        "                    y_pred_level[i] = self.models[level][label].predict([X_test[i]])[0]\n",
        "                else:\n",
        "                    y_pred_level[i] = self.label_encoders[level].transform([\"Unknown\"])[0]\n",
        "\n",
        "            y_pred_hierarchical.append(y_pred_level)\n",
        "\n",
        "            metrics[f'Cat{level}']['accuracy'].append(accuracy_score(y_test_level, y_pred_level))\n",
        "            metrics[f'Cat{level}']['f1'].append(f1_score(y_test_level, y_pred_level, average='macro'))\n",
        "            metrics[f'Cat{level}']['recall'].append(recall_score(y_test_level, y_pred_level, average='macro'))\n",
        "            metrics[f'Cat{level}']['precision'].append(precision_score(y_test_level, y_pred_level, average='macro'))\n",
        "\n",
        "        return metrics\n"
      ]
    },
    {
      "cell_type": "code",
      "execution_count": null,
      "metadata": {
        "id": "lu5WLl81VuSW"
      },
      "outputs": [],
      "source": [
        "base_model = RandomForestClassifier(n_estimators=100, random_state=42)\n",
        "hc = LCPN_HierarchicalClassifier(base_model)\n",
        "hc.fit(train_data)"
      ]
    },
    {
      "cell_type": "markdown",
      "metadata": {
        "id": "7aGvwIXAn3v0"
      },
      "source": [
        "**Результат**:\n",
        "\n",
        "метрики верхних уровней на тренировочных данных:\n",
        "- accuracy = 0.6\n",
        "- F1 = 0.4\n",
        "\n",
        "Метрики нижних классов показывают очень низкое качество даже на тренировочной выборке. Возможной причиной является недостаток количества тренировочных данных для определенных категорий."
      ]
    },
    {
      "cell_type": "markdown",
      "metadata": {
        "id": "IqIR_wG1ojMS"
      },
      "source": [
        "## Структура Local Classifier per Node (LCN) - обучение одного многоклассового классификатора для каждого уровня."
      ]
    },
    {
      "cell_type": "code",
      "execution_count": null,
      "metadata": {
        "id": "iVKhtoFoRPn6"
      },
      "outputs": [],
      "source": [
        "from gensim.models import Word2Vec"
      ]
    },
    {
      "cell_type": "code",
      "execution_count": null,
      "metadata": {
        "id": "Mj85qQ6niVLE"
      },
      "outputs": [],
      "source": [
        "class LCN_HierarchicalClassifier:\n",
        "\n",
        "    def __init__(self, base_model):\n",
        "        self.base_model = base_model\n",
        "        self.models = {}\n",
        "        self.label_encoders = {}\n",
        "\n",
        "\n",
        "    def preprocess_text(self, text):\n",
        "        tokens = word_tokenize(text)\n",
        "        tokens = [word.lower() for word in tokens if word.isalpha()]\n",
        "        stop_words = set(stopwords.words('english'))\n",
        "        filtered_tokens = [word for word in tokens if word not in stop_words]\n",
        "        stemmer =  SnowballStemmer('english')\n",
        "        stemmed_tokens = [stemmer.stem(word) for word in filtered_tokens]\n",
        "        return ' '.join(stemmed_tokens)\n",
        "\n",
        "    def fit_word2vec(self, text):\n",
        "        \"\"\"\n",
        "        Функция тренировки word2vec.\n",
        "        Для нахождения более сложных зависимостей и пополнения признаков\n",
        "        обучаем word2vec.\n",
        "        \"\"\"\n",
        "        self.word2vec_model = Word2Vec(text)\n",
        "        self.word2vec_model.train(text, total_examples=len(text), epochs=5)\n",
        "        return self.word2vec_model\n",
        "\n",
        "    def text_to_vector(self, text):\n",
        "        \"\"\"\n",
        "        Функция преобразования текста в вектора.\n",
        "        \"\"\"\n",
        "        words = self.preprocess_text(text)\n",
        "        words_in_vocab = [word for word in words if word in self.word2vec_model.wv]\n",
        "        if len(words_in_vocab) == 0:\n",
        "            return np.zeros(100)\n",
        "        return np.mean([self.word2vec_model.wv[word] for word in words_in_vocab], axis=0)\n",
        "\n",
        "    def fit(self, train_data, save_model_dir=None):\n",
        "        \"\"\"\n",
        "        Функция тренировки.\n",
        "        Ход работы аналогичен классу LCPN, но здесь тренировка идет только по уровням,\n",
        "        поэтому кол-во классификаторов равно кол-ву уровней.\n",
        "        Также добавлена возможность сохранения весов моделелей.\n",
        "        \"\"\"\n",
        "        train_data['Processed_Text'] = train_data['Text'].apply(self.preprocess_text)\n",
        "        text = train_data['Processed_Text'].tolist()\n",
        "\n",
        "        # Преобразование текста в векторы\n",
        "        X = np.array([self.text_to_vector(text) for text in train_data['Processed_Text']])\n",
        "\n",
        "        for level in range(1, 4):\n",
        "            cat_column = f'Cat{level}'\n",
        "            label_encoder = LabelEncoder()\n",
        "            y = label_encoder.fit_transform(train_data[cat_column])\n",
        "\n",
        "            if \"Unknown\" not in label_encoder.classes_:\n",
        "                label_encoder.classes_ = np.append(label_encoder.classes_, \"Unknown\")\n",
        "\n",
        "            self.label_encoders[level] = label_encoder\n",
        "\n",
        "            X_train, X_test, y_train, y_test = train_test_split(X, y, test_size=0.2, shuffle=True)\n",
        "            self.models[level] = self.base_model.fit(X_train, y_train)\n",
        "\n",
        "            if save_model_dir:\n",
        "                model_path = os.path.join(save_model_dir, f'/content/drive/MyDrive/Colab Notebooks/Samokat/weights/model_level_{level}.pkl')\n",
        "                encoder_path = os.path.join(save_model_dir, f'/content/drive/MyDrive/Colab Notebooks/Samokat/weights/encoder_level_{level}.pkl')\n",
        "                with open(model_path, 'wb') as model_file:\n",
        "                    pickle.dump(self.models[level], model_file)\n",
        "                with open(encoder_path, 'wb') as encoder_file:\n",
        "                    pickle.dump(self.label_encoders[level], encoder_file)\n",
        "\n",
        "            y_pred = self.models[level].predict(X_test)\n",
        "\n",
        "            print(f'--- Level {level} ---')\n",
        "            print(f'Accuracy: {accuracy_score(y_test, y_pred)}')\n",
        "            print(f'F1 Score: {f1_score(y_test, y_pred, average=\"macro\")}')\n",
        "            print(f\"Recall score: {recall_score(y_test, y_pred, average='macro')}\")\n",
        "            print(f\"Precision score: {precision_score(y_test, y_pred, average='macro')}\")\n",
        "\n",
        "        return self\n",
        "\n",
        "    def transform_with_unknown(self, label_encoder, labels):\n",
        "        known_labels = set(label_encoder.classes_)\n",
        "        transformed_labels = []\n",
        "\n",
        "        for label in labels:\n",
        "            if label in known_labels:\n",
        "                transformed_labels.append(label_encoder.transform([label])[0])\n",
        "            else:\n",
        "                transformed_labels.append(label_encoder.transform([\"Unknown\"])[0])\n",
        "\n",
        "        return np.array(transformed_labels)\n",
        "\n",
        "    def predict(self, X, model_dir=None):\n",
        "        if model_dir:   # Импорт обученной модели\n",
        "            for level in range(1, 4):\n",
        "                model_path = os.path.join(model_dir, f'model_level_{level}.pkl')\n",
        "                encoder_path = os.path.join(model_dir, f'encoder_level_{level}.pkl')\n",
        "                with open(model_path, 'rb') as model_file:\n",
        "                    self.models[level] = pickle.load(model_file)\n",
        "                with open(encoder_path, 'rb') as encoder_file:\n",
        "                    self.label_encoders[level] = pickle.load(encoder_file)\n",
        "\n",
        "        X = X.apply(self.preprocess_text)\n",
        "        X_transformed = self.vectorizer.transform(X)\n",
        "\n",
        "        y_pred_hierarchical = []\n",
        "\n",
        "        for level in range(1, 4):\n",
        "            y_pred_level = self.models[level].predict(X_transformed)\n",
        "            y_pred_hierarchical.append(y_pred_level)\n",
        "\n",
        "        return y_pred_hierarchical[-1], y_pred_hierarchical\n",
        "\n",
        "    def evaluate(self, test_data):\n",
        "        test_data['Processed_Text'] = test_data['Text'].apply(self.preprocess_text)\n",
        "        X_test = np.array([self.text_to_vector(text) for text in test_data['Text']])\n",
        "\n",
        "        metrics = {f'Cat{level}': {'accuracy': [], 'f1': [], 'recall': [], 'precision': []} for level in range(1, 4)}\n",
        "\n",
        "        y_pred_hierarchical = []\n",
        "\n",
        "        for level in range(1, 4):\n",
        "            y_test_level = self.transform_with_unknown(self.label_encoders[level], test_data[f'Cat{level}'])\n",
        "            y_pred_level = self.models[level].predict(X_test)\n",
        "            y_pred_hierarchical.append(y_pred_level)\n",
        "\n",
        "            metrics[f'Cat{level}']['accuracy'].append(accuracy_score(y_test_level, y_pred_level))\n",
        "            metrics[f'Cat{level}']['f1'].append(f1_score(y_test_level, y_pred_level, average='macro'))\n",
        "            metrics[f'Cat{level}']['recall'].append(recall_score(y_test_level, y_pred_level, average='macro'))\n",
        "            metrics[f'Cat{level}']['precision'].append(precision_score(y_test_level, y_pred_level, average='macro'))\n",
        "\n",
        "            print(f\"--- Evaluation results for Cat{level} ---\")\n",
        "            print(f\"Accuracy: {np.mean(metrics[f'Cat{level}']['accuracy'])}\")\n",
        "            print(f\"F1 Score: {np.mean(metrics[f'Cat{level}']['f1'])}\")\n",
        "            print(f\"Recall: {np.mean(metrics[f'Cat{level}']['recall'])}\")\n",
        "            print(f\"Precision: {np.mean(metrics[f'Cat{level}']['precision'])}\")\n",
        "            print()\n",
        "\n",
        "        return metrics\n"
      ]
    },
    {
      "cell_type": "code",
      "execution_count": null,
      "metadata": {
        "id": "mWW7uW4rbxeF"
      },
      "outputs": [],
      "source": [
        "texts_for_w2v = pd.read_csv('/content/drive/MyDrive/Colab Notebooks/Samokat/amazon/unlabeled_150k.csv')['Text']"
      ]
    },
    {
      "cell_type": "code",
      "execution_count": null,
      "metadata": {
        "colab": {
          "base_uri": "https://localhost:8080/"
        },
        "id": "60GAvEbG0R7z",
        "outputId": "fb3b6ac7-755a-4391-9472-70dabb1bf3a6"
      },
      "outputs": [
        {
          "name": "stderr",
          "output_type": "stream",
          "text": [
            "WARNING:gensim.models.word2vec:Each 'sentences' item should be a list of words (usually unicode strings). First item here is instead plain <class 'str'>.\n",
            "WARNING:gensim.models.word2vec:Effective 'alpha' higher than previous training cycles\n"
          ]
        },
        {
          "data": {
            "text/plain": [
              "<gensim.models.word2vec.Word2Vec at 0x79516750ffa0>"
            ]
          },
          "execution_count": 17,
          "metadata": {},
          "output_type": "execute_result"
        }
      ],
      "source": [
        "from xgboost import XGBClassifier\n",
        "\n",
        "base_model = XGBClassifier(n_estimators=300, eval_metric=\"mlogloss\", use_label_encoder=False)\n",
        "classifier = LCN_HierarchicalClassifier(base_model)\n",
        "classifier.fit_word2vec(texts_for_w2v[:90000]) # Предобучаем word2vec на большом объеме данных\n"
      ]
    },
    {
      "cell_type": "code",
      "execution_count": null,
      "metadata": {
        "colab": {
          "base_uri": "https://localhost:8080/"
        },
        "id": "v7VhypUFclwd",
        "outputId": "da8ee621-3143-4e20-c3f3-9f8a7edfb2cc"
      },
      "outputs": [
        {
          "name": "stderr",
          "output_type": "stream",
          "text": [
            "/usr/local/lib/python3.10/dist-packages/xgboost/core.py:158: UserWarning: [10:51:45] WARNING: /workspace/src/learner.cc:740: \n",
            "Parameters: { \"use_label_encoder\" } are not used.\n",
            "\n",
            "  warnings.warn(smsg, UserWarning)\n"
          ]
        },
        {
          "name": "stdout",
          "output_type": "stream",
          "text": [
            "--- Level 1 ---\n",
            "Accuracy: 0.4139139139139139\n",
            "F1 Score: 0.3661518509770749\n",
            "Recall score: 0.358710422904633\n",
            "Precision score: 0.40518879778503386\n"
          ]
        },
        {
          "name": "stderr",
          "output_type": "stream",
          "text": [
            "/usr/local/lib/python3.10/dist-packages/xgboost/core.py:158: UserWarning: [10:53:46] WARNING: /workspace/src/learner.cc:740: \n",
            "Parameters: { \"use_label_encoder\" } are not used.\n",
            "\n",
            "  warnings.warn(smsg, UserWarning)\n"
          ]
        },
        {
          "name": "stdout",
          "output_type": "stream",
          "text": [
            "--- Level 2 ---\n",
            "Accuracy: 0.17942942942942944\n",
            "F1 Score: 0.09499476856939934\n",
            "Recall score: 0.09066501783777951\n",
            "Precision score: 0.1300112335870912\n"
          ]
        },
        {
          "name": "stderr",
          "output_type": "stream",
          "text": [
            "/usr/local/lib/python3.10/dist-packages/sklearn/metrics/_classification.py:1471: UndefinedMetricWarning: Precision is ill-defined and being set to 0.0 in labels with no predicted samples. Use `zero_division` parameter to control this behavior.\n",
            "  _warn_prf(average, modifier, msg_start, len(result))\n",
            "/usr/local/lib/python3.10/dist-packages/xgboost/core.py:158: UserWarning: [11:04:59] WARNING: /workspace/src/learner.cc:740: \n",
            "Parameters: { \"use_label_encoder\" } are not used.\n",
            "\n",
            "  warnings.warn(smsg, UserWarning)\n"
          ]
        },
        {
          "name": "stdout",
          "output_type": "stream",
          "text": [
            "--- Level 3 ---\n",
            "Accuracy: 0.12374874874874875\n",
            "F1 Score: 0.05119964756174889\n",
            "Recall score: 0.047663276391831225\n",
            "Precision score: 0.07213873149849119\n"
          ]
        },
        {
          "name": "stderr",
          "output_type": "stream",
          "text": [
            "/usr/local/lib/python3.10/dist-packages/sklearn/metrics/_classification.py:1471: UndefinedMetricWarning: Precision is ill-defined and being set to 0.0 in labels with no predicted samples. Use `zero_division` parameter to control this behavior.\n",
            "  _warn_prf(average, modifier, msg_start, len(result))\n"
          ]
        },
        {
          "data": {
            "text/plain": [
              "<__main__.LCN_HierarchicalClassifier at 0x79516750e5c0>"
            ]
          },
          "execution_count": 18,
          "metadata": {},
          "output_type": "execute_result"
        }
      ],
      "source": [
        "classifier.fit(train_data, save_model_dir='/content/drive/MyDrive/Colab Notebooks/Samokat/weights')"
      ]
    },
    {
      "cell_type": "markdown",
      "metadata": {
        "id": "C76_l-SyWzfF"
      },
      "source": [
        "Использование разных моделей:\n",
        "- Линейные модели не могут найти глубокие скрытые зависимости, поэтому проявляется недообучение.\n",
        "- Случайный лес склонен к переобучению, поэтому на тестовых данных показывает очень хорошее качество, но на тесте метрики плохие.\n",
        "- Бустинги показывают себя лучше всего, но они более ресурсозатратные: для обучения всего классификатора на XGBoost потребовалось около 50 минут.\n",
        "\n",
        "\n",
        "**Результат**:\n",
        "Модели на каждом уровне работают хуже LCPN + в данной структуре теряются иерархические отношения."
      ]
    },
    {
      "cell_type": "code",
      "execution_count": null,
      "metadata": {
        "id": "L5JmL0rWXvr-"
      },
      "outputs": [],
      "source": [
        "val_data = pd.read_csv('/content/drive/MyDrive/Colab Notebooks/Samokat/amazon/val_10k.csv')"
      ]
    },
    {
      "cell_type": "markdown",
      "metadata": {
        "id": "dItHPDKIY7i1"
      },
      "source": [
        "# Плоский классификатор"
      ]
    },
    {
      "cell_type": "markdown",
      "metadata": {
        "id": "kHgcnEM-JYLe"
      },
      "source": [
        "Идея: конкатенируем все три категории и подаем в классификатор как класс."
      ]
    },
    {
      "cell_type": "code",
      "execution_count": 60,
      "metadata": {
        "id": "0wBFh5COrNC1"
      },
      "outputs": [],
      "source": [
        "train_data = pd.read_csv('/content/drive/MyDrive/Colab Notebooks/Samokat/amazon/train_40k.csv')"
      ]
    },
    {
      "cell_type": "code",
      "execution_count": 61,
      "metadata": {
        "id": "rRH4tFMcbTLV"
      },
      "outputs": [],
      "source": [
        "train_data['Flat_Class'] = train_data['Cat1'] + ' ' + train_data['Cat2'] + ' ' + train_data['Cat3']"
      ]
    },
    {
      "cell_type": "code",
      "execution_count": 63,
      "metadata": {
        "colab": {
          "base_uri": "https://localhost:8080/",
          "height": 490
        },
        "id": "7poAmvwnbh8R",
        "outputId": "81572a7a-f846-48b2-abcc-0d8015fb1853"
      },
      "outputs": [
        {
          "data": {
            "text/html": [
              "<div>\n",
              "<style scoped>\n",
              "    .dataframe tbody tr th:only-of-type {\n",
              "        vertical-align: middle;\n",
              "    }\n",
              "\n",
              "    .dataframe tbody tr th {\n",
              "        vertical-align: top;\n",
              "    }\n",
              "\n",
              "    .dataframe thead th {\n",
              "        text-align: right;\n",
              "    }\n",
              "</style>\n",
              "<table border=\"1\" class=\"dataframe\">\n",
              "  <thead>\n",
              "    <tr style=\"text-align: right;\">\n",
              "      <th></th>\n",
              "      <th>count</th>\n",
              "    </tr>\n",
              "    <tr>\n",
              "      <th>Flat_Class</th>\n",
              "      <th></th>\n",
              "    </tr>\n",
              "  </thead>\n",
              "  <tbody>\n",
              "    <tr>\n",
              "      <th>health personal care personal care shaving hair removal</th>\n",
              "      <td>1565</td>\n",
              "    </tr>\n",
              "    <tr>\n",
              "      <th>health personal care nutrition wellness vitamins supplements</th>\n",
              "      <td>1315</td>\n",
              "    </tr>\n",
              "    <tr>\n",
              "      <th>toys games games board games</th>\n",
              "      <td>924</td>\n",
              "    </tr>\n",
              "    <tr>\n",
              "      <th>beauty hair care styling tools</th>\n",
              "      <td>850</td>\n",
              "    </tr>\n",
              "    <tr>\n",
              "      <th>beauty fragrance women s</th>\n",
              "      <td>737</td>\n",
              "    </tr>\n",
              "    <tr>\n",
              "      <th>...</th>\n",
              "      <td>...</td>\n",
              "    </tr>\n",
              "    <tr>\n",
              "      <th>toys games novelty gag toys slime putty toys</th>\n",
              "      <td>1</td>\n",
              "    </tr>\n",
              "    <tr>\n",
              "      <th>toys games games handheld games</th>\n",
              "      <td>1</td>\n",
              "    </tr>\n",
              "    <tr>\n",
              "      <th>toys games puzzles puzzle play mats</th>\n",
              "      <td>1</td>\n",
              "    </tr>\n",
              "    <tr>\n",
              "      <th>toys games dolls accessories unknown</th>\n",
              "      <td>1</td>\n",
              "    </tr>\n",
              "    <tr>\n",
              "      <th>grocery gourmet food gourmet gifts spices gifts</th>\n",
              "      <td>1</td>\n",
              "    </tr>\n",
              "  </tbody>\n",
              "</table>\n",
              "<p>555 rows × 1 columns</p>\n",
              "</div><br><label><b>dtype:</b> int64</label>"
            ],
            "text/plain": [
              "Flat_Class\n",
              "health personal care personal care shaving hair removal         1565\n",
              "health personal care nutrition wellness vitamins supplements    1315\n",
              "toys games games board games                                     924\n",
              "beauty hair care styling tools                                   850\n",
              "beauty fragrance women s                                         737\n",
              "                                                                ... \n",
              "toys games novelty gag toys slime putty toys                       1\n",
              "toys games games handheld games                                    1\n",
              "toys games puzzles puzzle play mats                                1\n",
              "toys games dolls accessories unknown                               1\n",
              "grocery gourmet food gourmet gifts spices gifts                    1\n",
              "Name: count, Length: 555, dtype: int64"
            ]
          },
          "execution_count": 63,
          "metadata": {},
          "output_type": "execute_result"
        }
      ],
      "source": [
        "train_data['Flat_Class'].value_counts()"
      ]
    },
    {
      "cell_type": "code",
      "execution_count": 65,
      "metadata": {
        "collapsed": true,
        "id": "BeBL0AmGyqqN"
      },
      "outputs": [],
      "source": [
        "import re\n",
        "from collections import Counter\n",
        "from sklearn.model_selection import train_test_split\n",
        "from sklearn.preprocessing import LabelEncoder\n",
        "from gensim.models import Word2Vec\n",
        "import numpy as np\n",
        "import pickle\n",
        "import os\n",
        "from sklearn.metrics import accuracy_score, f1_score, recall_score, precision_score\n",
        "from xgboost import XGBClassifier\n",
        "\n",
        "class FlatClassifier:\n",
        "\n",
        "    def __init__(self, base_model):\n",
        "        self.base_model = base_model\n",
        "        self.label_encoder = None\n",
        "        self.word2vec_model = None\n",
        "\n",
        "    def preprocess_text(self, text):\n",
        "        # Простая предобработка текста без использования NLTK\n",
        "        text = text.lower()\n",
        "        text = re.sub(r'\\b\\w{1,2}\\b', '', text)  # Удаляем короткие слова длиной 1-2 буквы\n",
        "        text = re.sub(r'\\d+', '', text)  # Удаляем числа\n",
        "        text = re.sub(r'\\W+', ' ', text)  # Удаляем все, кроме букв и пробелов\n",
        "        text = text.strip()\n",
        "        return text\n",
        "\n",
        "    def fit_word2vec(self, texts):\n",
        "        self.word2vec_model = Word2Vec(texts)\n",
        "        self.word2vec_model.train(texts, total_examples=len(texts), epochs=5)\n",
        "        return self.word2vec_model\n",
        "\n",
        "    def text_to_vector(self, text):\n",
        "        words = self.preprocess_text(text).split()\n",
        "        words_in_vocab = [word for word in words if word in self.word2vec_model.wv]\n",
        "        if len(words_in_vocab) == 0:\n",
        "            return np.zeros(100)\n",
        "        return np.mean([self.word2vec_model.wv[word] for word in words_in_vocab], axis=0)\n",
        "\n",
        "    def fit(self, train_data, save_model_dir=None):\n",
        "        # Объединение категорий в один класс\n",
        "        train_data['Flat_Class'] = train_data['Cat1'] + ' ' + train_data['Cat2'] + ' ' + train_data['Cat3']\n",
        "\n",
        "        # Замена редких классов на 'Other'\n",
        "        threshold = 5\n",
        "        class_counts = train_data['Flat_Class'].value_counts()\n",
        "        train_data['Flat_Class'] = train_data['Flat_Class'].apply(lambda x: x if class_counts[x] > threshold else 'Other')\n",
        "\n",
        "        # Преобразование текста в векторы\n",
        "        train_data['Processed_Text'] = train_data['Text'].apply(self.preprocess_text)\n",
        "        text = train_data['Processed_Text'].tolist()\n",
        "        X = np.array([self.text_to_vector(text) for text in train_data['Processed_Text']])\n",
        "\n",
        "        # Преобразование класса\n",
        "        self.label_encoder = LabelEncoder()\n",
        "        y = self.label_encoder.fit_transform(train_data['Flat_Class'])\n",
        "\n",
        "        X_train, X_test, y_train, y_test = train_test_split(X, y, test_size=0.2, shuffle=True)\n",
        "\n",
        "        self.base_model.fit(X_train, y_train)\n",
        "\n",
        "        # Сохранение модели и энкодера,\n",
        "        if save_model_dir:\n",
        "            model_path = os.path.join(save_model_dir, '/content/drive/MyDrive/Colab Notebooks/Samokat/weights/flat_model.pkl')\n",
        "            encoder_path = os.path.join(save_model_dir, '/content/drive/MyDrive/Colab Notebooks/Samokat/weights/flat_encoder.pkl')\n",
        "            with open(model_path, 'wb') as model_file:\n",
        "                pickle.dump(self.base_model, model_file)\n",
        "            with open(encoder_path, 'wb') as encoder_file:\n",
        "                pickle.dump(self.label_encoder, encoder_file)\n",
        "\n",
        "        # Оценка модели\n",
        "        y_pred = self.base_model.predict(X_test)\n",
        "        print(f'Accuracy: {accuracy_score(y_test, y_pred)}')\n",
        "        print(f'F1 Score: {f1_score(y_test, y_pred, average=\"macro\")}')\n",
        "        print(f\"Recall score: {recall_score(y_test, y_pred, average='macro')}\")\n",
        "        print(f\"Precision score: {precision_score(y_test, y_pred, average='macro')}\")\n",
        "\n",
        "        return self\n",
        "\n",
        "    def predict(self, X, model_dir=None):\n",
        "\n",
        "        if model_dir:\n",
        "            model_path = os.path.join(model_dir, 'flat_model.pkl')\n",
        "            encoder_path = os.path.join(model_dir, 'flat_encoder.pkl')\n",
        "            with open(model_path, 'rb') as model_file:\n",
        "                self.base_model = pickle.load(model_file)\n",
        "            with open(encoder_path, 'rb') as encoder_file:\n",
        "                self.label_encoder = pickle.load(encoder_file)\n",
        "\n",
        "        X = X.apply(self.preprocess_text)\n",
        "        X_transformed = np.array([self.text_to_vector(text) for text in X])\n",
        "\n",
        "        y_pred = self.base_model.predict(X_transformed)\n",
        "        y_pred_classes = self.label_encoder.inverse_transform(y_pred)\n",
        "\n",
        "        return y_pred_classes\n"
      ]
    },
    {
      "cell_type": "code",
      "execution_count": 67,
      "metadata": {
        "colab": {
          "base_uri": "https://localhost:8080/"
        },
        "id": "hnCvaafhzyyf",
        "outputId": "bae05f7c-5782-4bd8-a734-cf477a5bf8c7"
      },
      "outputs": [
        {
          "name": "stderr",
          "output_type": "stream",
          "text": [
            "WARNING:gensim.models.word2vec:Effective 'alpha' higher than previous training cycles\n",
            "/usr/local/lib/python3.10/dist-packages/xgboost/core.py:158: UserWarning: [14:08:04] WARNING: /workspace/src/learner.cc:740: \n",
            "Parameters: { \"use_label_encoder\" } are not used.\n",
            "\n",
            "  warnings.warn(smsg, UserWarning)\n"
          ]
        },
        {
          "name": "stdout",
          "output_type": "stream",
          "text": [
            "Accuracy: 0.26525\n",
            "F1 Score: 0.09368683256859443\n",
            "Recall score: 0.09110660603217342\n",
            "Precision score: 0.1148709416646824\n"
          ]
        },
        {
          "name": "stderr",
          "output_type": "stream",
          "text": [
            "/usr/local/lib/python3.10/dist-packages/sklearn/metrics/_classification.py:1471: UndefinedMetricWarning: Recall is ill-defined and being set to 0.0 in labels with no true samples. Use `zero_division` parameter to control this behavior.\n",
            "  _warn_prf(average, modifier, msg_start, len(result))\n",
            "/usr/local/lib/python3.10/dist-packages/sklearn/metrics/_classification.py:1471: UndefinedMetricWarning: Precision is ill-defined and being set to 0.0 in labels with no predicted samples. Use `zero_division` parameter to control this behavior.\n",
            "  _warn_prf(average, modifier, msg_start, len(result))\n"
          ]
        },
        {
          "data": {
            "text/plain": [
              "<__main__.FlatClassifier at 0x7ce4f1d2afb0>"
            ]
          },
          "execution_count": 67,
          "metadata": {},
          "output_type": "execute_result"
        }
      ],
      "source": [
        "# Инициализация и обучение модели\n",
        "base_model = XGBClassifier(n_estimators=100, eval_metric=\"mlogloss\", use_label_encoder=False)\n",
        "flat_classifier = FlatClassifier(base_model)\n",
        "\n",
        "flat_classifier.fit_word2vec(train_data['Text'].apply(flat_classifier.preprocess_text).str.split())\n",
        "\n",
        "# Обучение FlatClassifier на первых 9000 записях\n",
        "flat_classifier.fit(train_data, save_model_dir='/content/drive/MyDrive/Colab Notebooks/Samokat/weights')"
      ]
    },
    {
      "cell_type": "code",
      "execution_count": 69,
      "metadata": {
        "colab": {
          "base_uri": "https://localhost:8080/"
        },
        "id": "glChsfjG_tib",
        "outputId": "9eff594d-2f40-4a01-b884-a09ee67d22cc"
      },
      "outputs": [
        {
          "data": {
            "text/plain": [
              "array(['toys games games card games',\n",
              "       'toys games action toy figures figures'], dtype=object)"
            ]
          },
          "execution_count": 69,
          "metadata": {},
          "output_type": "execute_result"
        }
      ],
      "source": [
        "new_data = pd.Series([\n",
        "    \"Cool Game\",\n",
        "    \"Toys is cool\"\n",
        "])\n",
        "flat_classifier.predict(new_data)"
      ]
    },
    {
      "cell_type": "markdown",
      "metadata": {
        "id": "bb1sp_JOKJII"
      },
      "source": [
        "# ИТОГИ\n",
        "Мы обучили 3 вида классификации:\n",
        "- Local Classifier per Parent Node (LCPN) - каждый родительский узел получает один многоклассовый классификатор.\n",
        "- Local Classifier per Node (LCN) - обучение одного многоклассового классификатора для каждого уровня.\n",
        "- Flat Classifier (\"плоский\" классификатор) - обучение на конкатенированных данных.\n",
        "\n",
        "\n",
        "---\n",
        "**LCPN**.\n",
        "\n",
        "Плюсы:\n",
        "- Хорошее качество моделей относительно других структур.\n",
        "- Скорость обучения выше остальных (15 минут при обучении XGBoost).\n",
        "\n",
        "Минусы:\n",
        "- Сложность обработки редких классов.\n",
        "- Зависимость от предсказаний на предыдущих уровнях.\n",
        "\n",
        "\n",
        "---\n",
        "\n",
        "\n",
        "\n",
        "**LCN**\n",
        "\n",
        "Качество моделей хуже, скорость обучения ниже (25 минут при обучении XGBoost), более высокая вычислительная сложность.\n",
        "\n",
        "\n",
        "---\n",
        "**Плоский** **классификатор**\n",
        "\n",
        "Не эффективен при работе с большим количеством классов, низкая точность.\n",
        "Временные затраты растут с увеличением количества классов, но обучение остается достаточно эффективным, поскольку весь процесс сводится к одному вызову алгоритма обучения."
      ]
    },
    {
      "cell_type": "code",
      "execution_count": null,
      "metadata": {
        "id": "rmM9lZ0aKaCL"
      },
      "outputs": [],
      "source": []
    }
  ],
  "metadata": {
    "colab": {
      "provenance": []
    },
    "kernelspec": {
      "display_name": "Python 3",
      "name": "python3"
    },
    "language_info": {
      "name": "python"
    }
  },
  "nbformat": 4,
  "nbformat_minor": 0
}
